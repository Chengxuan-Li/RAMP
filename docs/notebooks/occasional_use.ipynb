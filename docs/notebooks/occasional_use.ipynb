{
 "cells": [
  {
   "cell_type": "markdown",
   "id": "a4ecebf6",
   "metadata": {},
   "source": [
    "# Appliances with occasional use\n",
    "\n",
    "There are some appliances that are occasionally included in the mix of appliances that the user switches on during the day. For example, an iron, a stereo, printers, etc.\n",
    "\n",
    "Within RAMP, the user may specify the probability of using an appliance on the daily mix with a parameter called **occasional_use**.\n",
    "\n",
    "When `occasional_use = 1`, the appliance is always present in the mix, and when `occasional_use = 0`,  the appliance is never present. Any in-between values will lead to a probabilistic calculation to decide whether the appliance is used or not on a given day.\n",
    "\n",
    "The following example investigates the effect of this parameter by modelling two user categories:\n",
    "* A household that uses a computer occasionally\n",
    "* A school that uses the computer every day"
   ]
  },
  {
   "cell_type": "code",
   "execution_count": 1,
   "id": "e6d72eaa",
   "metadata": {},
   "outputs": [],
   "source": [
    "# importing functions\n",
    "from ramp import User, UseCase\n",
    "import matplotlib.pyplot as plt\n",
    "import pandas as pd"
   ]
  },
  {
   "cell_type": "markdown",
   "id": "0a6ccd54",
   "metadata": {},
   "source": [
    "### Creating user categories and appliances"
   ]
  },
  {
   "cell_type": "code",
   "execution_count": 2,
   "id": "4e0e4417",
   "metadata": {},
   "outputs": [],
   "source": [
    "household = User(\"Household\")\n",
    "school = User(\"School\")"
   ]
  },
  {
   "cell_type": "code",
   "execution_count": 3,
   "id": "e5e87e38",
   "metadata": {},
   "outputs": [],
   "source": [
    "computer_0 = household.add_appliance(\n",
    "    name=\"Household Computer\",\n",
    "    number=1,\n",
    "    power=50,\n",
    "    num_windows=1,\n",
    "    func_time=210, # 3.5 hours\n",
    "    func_cycle=210,  \n",
    "    occasional_use=0.5,  # 50% chance of occasional use,\n",
    "    window_1=[480, 750], # start from 8AM\n",
    ")"
   ]
  },
  {
   "cell_type": "code",
   "execution_count": 4,
   "id": "a09b5cbc",
   "metadata": {},
   "outputs": [],
   "source": [
    "computer_1 = school.add_appliance(\n",
    "    name=\"School Computer\",\n",
    "    number=1,\n",
    "    power=50,\n",
    "    num_windows=1,\n",
    "    func_time=210, # 3.5 hours\n",
    "    func_cycle=210,  \n",
    "    occasional_use=1,  # always present in the mix of appliances,\n",
    "    window_1=[480, 750], # start from 8AM\n",
    ")"
   ]
  },
  {
   "cell_type": "markdown",
   "id": "f60846e8",
   "metadata": {},
   "source": [
    "### Generating profiles\n",
    "As the profiles of each specific User category is important, we will use the User object profile genertor methods for 5 consecutive days:"
   ]
  },
  {
   "cell_type": "code",
   "execution_count": 5,
   "id": "320b7296",
   "metadata": {},
   "outputs": [
    {
     "name": "stdout",
     "output_type": "stream",
     "text": [
      "You are generating ramp demand from a User not bounded to a UseCase instance, a default one has been created for you \n",
      "You are generating ramp demand from a User not bounded to a UseCase instance, a default one has been created for you \n"
     ]
    }
   ],
   "source": [
    "number_of_days = 5\n",
    "household_profiles = []\n",
    "school_profiles = []\n",
    "\n",
    "for day in range(1,number_of_days+1):\n",
    "    household_profiles.extend(\n",
    "        household.generate_single_load_profile(prof_i=day)\n",
    "    )\n",
    "\n",
    "    school_profiles.extend(\n",
    "        school.generate_single_load_profile(prof_i=day)\n",
    "    )"
   ]
  },
  {
   "cell_type": "code",
   "execution_count": 6,
   "id": "fadd6c63",
   "metadata": {},
   "outputs": [
    {
     "data": {
      "image/png": "[encoded data removed]",
      "text/plain": [
       "<Figure size 800x400 with 2 Axes>"
      ]
     },
     "metadata": {},
     "output_type": "display_data"
    }
   ],
   "source": [
    "fig, axes = plt.subplots(nrows=1, ncols=2, figsize=(8, 4)) \n",
    "\n",
    "\n",
    "i = 0\n",
    "for name, df in dict(\n",
    "    household_profiles=pd.DataFrame(household_profiles),\n",
    "    school_profiles=pd.DataFrame(school_profiles)\n",
    "    ).items():\n",
    "    df.plot(ax=axes[i],legend=False)\n",
    "    axes[i].set_title(name)\n",
    "    i+=1\n",
    "\n",
    "plt.tight_layout()\n",
    "plt.show()\n"
   ]
  },
  {
   "cell_type": "markdown",
   "id": "5507c1ac",
   "metadata": {},
   "source": [
    "As it can be seen from the figures, the computer is always present in\n",
    "the school's appliance mix while, for the household, it is only occasionally \n",
    "present."
   ]
  }
 ],
 "metadata": {
  "kernelspec": {
   "display_name": "Python 3 (ipykernel)",
   "language": "python",
   "name": "python3"
  },
  "language_info": {
   "codemirror_mode": {
    "name": "ipython",
    "version": 3
   },
   "file_extension": ".py",
   "mimetype": "text/x-python",
   "name": "python",
   "nbconvert_exporter": "python",
   "pygments_lexer": "ipython3",
   "version": "3.9.0"
  }
 },
 "nbformat": 4,
 "nbformat_minor": 5
}
